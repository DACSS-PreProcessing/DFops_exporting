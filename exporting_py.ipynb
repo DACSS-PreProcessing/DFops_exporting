{
 "cells": [
  {
   "cell_type": "code",
   "execution_count": null,
   "id": "f16ac89a-7555-46c2-b402-7afe11ddfc21",
   "metadata": {},
   "outputs": [],
   "source": [
    "LinkData=\"https://github.com/DACSS-PreProcessing/DFops_exporting/raw/refs/heads/main/originalData/Boston_Incidents.csv\"\n",
    "\n",
    "import pandas as pd\n",
    "boston=pd.read_csv(LinkData)"
   ]
  },
  {
   "cell_type": "code",
   "execution_count": null,
   "id": "60c4404a-54b9-446f-b931-966906c97012",
   "metadata": {},
   "outputs": [],
   "source": [
    "boston.info()"
   ]
  },
  {
   "cell_type": "code",
   "execution_count": null,
   "id": "e3a9fd0e-d0bd-4359-9657-3d248f9f6348",
   "metadata": {},
   "outputs": [],
   "source": [
    "boston.columns=boston.columns.str.replace(r'\\s','_',regex=True)\n",
    "boston['Incident_Number']=boston.Incident_Number.astype(str)\n",
    "boston[\"Report_Date\"]=pd.to_datetime(boston.Report_Date,format='%m/%d/%Y %H:%M:%S %p')\n",
    "boston.Quarter[~boston.Quarter.isnull()].head()\n",
    "boston['Quarter']=boston.Quarter.astype('Int32').astype(str)\n",
    "\n",
    "from pandas.api.types import CategoricalDtype\n",
    "\n",
    "cat_type = CategoricalDtype(categories=['1','2','3','4'], ordered=True)\n",
    "\n",
    "boston[\"Quarter\"]= boston.Quarter.astype(cat_type)"
   ]
  },
  {
   "cell_type": "code",
   "execution_count": null,
   "id": "7764a791-f69c-4266-96a3-6c76c3b0845e",
   "metadata": {},
   "outputs": [],
   "source": [
    "boston.info()"
   ]
  },
  {
   "cell_type": "code",
   "execution_count": null,
   "id": "a5b4ffee-0d2d-4a06-9c6e-f12ea4f4d4de",
   "metadata": {},
   "outputs": [],
   "source": [
    "# !pip install pyarrow fastparquet pyreadr"
   ]
  },
  {
   "cell_type": "code",
   "execution_count": null,
   "id": "ddaa10a0-f0b4-4392-b8bf-38e833188964",
   "metadata": {},
   "outputs": [],
   "source": [
    "boston.to_pickle(\"from_py.pkl\")\n",
    "boston.to_csv(\"from_py.csv\",index=False)\n",
    "boston.to_parquet(\"from_py.parquet\")\n",
    "boston.to_feather(\"from_py.feather\")"
   ]
  },
  {
   "cell_type": "code",
   "execution_count": null,
   "id": "a4e8eaaf-7502-43ae-918b-ccab2380fae2",
   "metadata": {},
   "outputs": [],
   "source": [
    "import pyreadr\n",
    "pyreadr.write_rds(\"from_py.rds\", boston)"
   ]
  },
  {
   "cell_type": "code",
   "execution_count": null,
   "id": "ab18b639-f127-4c96-8f9d-6a0efd0bc86c",
   "metadata": {},
   "outputs": [],
   "source": [
    "feather_from_r=pd.read_feather('from_r.feather')\n",
    "feather_from_r.info()"
   ]
  },
  {
   "cell_type": "code",
   "execution_count": null,
   "id": "13e2822b-7889-4a2f-b5e4-5cb3954f3fe8",
   "metadata": {},
   "outputs": [],
   "source": [
    "feather_from_r.Quarter"
   ]
  },
  {
   "cell_type": "code",
   "execution_count": null,
   "id": "cff38f5a-6361-45a4-bd1a-2c319367f95d",
   "metadata": {},
   "outputs": [],
   "source": [
    "import pyreadr\n",
    "\n",
    "result = pyreadr.read_r('from_r.rds')\n",
    "feather_from_r = result[None] # extract the pandas data frame for the only object available\n",
    "feather_from_r.info()"
   ]
  },
  {
   "cell_type": "code",
   "execution_count": null,
   "id": "9ea28ac4-5793-4c15-93c0-462298e4e53b",
   "metadata": {},
   "outputs": [],
   "source": [
    "feather_from_r.Report.Date"
   ]
  },
  {
   "cell_type": "code",
   "execution_count": null,
   "id": "2a972b64-bba2-4aeb-9bf9-22cbbde538ad",
   "metadata": {},
   "outputs": [],
   "source": [
    "featherLink='https://github.com/DACSS-PreProcessing/DFops_exporting/raw/refs/heads/main/from_py.feather'\n",
    "featherData=pd.read_feather(featherLink)\n",
    "featherData.info()"
   ]
  },
  {
   "cell_type": "code",
   "execution_count": null,
   "id": "476cd820-2dd2-48ad-ae70-de1d8111f473",
   "metadata": {},
   "outputs": [],
   "source": [
    "parquetLink='https://github.com/DACSS-PreProcessing/DFops_exporting/raw/refs/heads/main/from_py.parquet'\n",
    "parquetData=pd.read_parquet(parquetLink)\n",
    "parquetData.info()"
   ]
  },
  {
   "cell_type": "code",
   "execution_count": null,
   "id": "dc2691e9-3a7a-46db-8d67-8e121038029a",
   "metadata": {},
   "outputs": [],
   "source": []
  }
 ],
 "metadata": {
  "kernelspec": {
   "display_name": "Python 3 (ipykernel)",
   "language": "python",
   "name": "python3"
  },
  "language_info": {
   "codemirror_mode": {
    "name": "ipython",
    "version": 3
   },
   "file_extension": ".py",
   "mimetype": "text/x-python",
   "name": "python",
   "nbconvert_exporter": "python",
   "pygments_lexer": "ipython3",
   "version": "3.12.0"
  }
 },
 "nbformat": 4,
 "nbformat_minor": 5
}
