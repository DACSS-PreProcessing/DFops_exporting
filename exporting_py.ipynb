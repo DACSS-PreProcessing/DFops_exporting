{
 "cells": [
  {
   "cell_type": "code",
   "execution_count": 14,
   "id": "f16ac89a-7555-46c2-b402-7afe11ddfc21",
   "metadata": {},
   "outputs": [
    {
     "name": "stderr",
     "output_type": "stream",
     "text": [
      "/var/folders/2n/bkfhfqq16r78g3hf7pdj56y40000gn/T/ipykernel_73802/2401877782.py:4: DtypeWarning: Columns (1) have mixed types. Specify dtype option on import or set low_memory=False.\n",
      "  boston=pd.read_csv(LinkData)\n"
     ]
    }
   ],
   "source": [
    "LinkData=\"https://github.com/DACSS-PreProcessing/DFops_exporting/raw/refs/heads/main/originalData/Boston_Incidents.csv\"\n",
    "\n",
    "import pandas as pd\n",
    "boston=pd.read_csv(LinkData)"
   ]
  },
  {
   "cell_type": "code",
   "execution_count": 15,
   "id": "60c4404a-54b9-446f-b931-966906c97012",
   "metadata": {},
   "outputs": [
    {
     "name": "stdout",
     "output_type": "stream",
     "text": [
      "<class 'pandas.core.frame.DataFrame'>\n",
      "RangeIndex: 213603 entries, 0 to 213602\n",
      "Data columns (total 22 columns):\n",
      " #   Column               Non-Null Count   Dtype  \n",
      "---  ------               --------------   -----  \n",
      " 0   OBJECTID             213603 non-null  int64  \n",
      " 1   Incident Number      213603 non-null  object \n",
      " 2   Crime                213603 non-null  object \n",
      " 3   Offense Code         213603 non-null  object \n",
      " 4   Offense Description  213603 non-null  object \n",
      " 5   Block Address        182883 non-null  object \n",
      " 6   City                 182892 non-null  object \n",
      " 7   Zip Code             182892 non-null  object \n",
      " 8   BPD District         211775 non-null  object \n",
      " 9   Premise Description  182892 non-null  object \n",
      " 10  Weapon Description   13332 non-null   object \n",
      " 11  Crime Part           208970 non-null  object \n",
      " 12  Crime Category       32631 non-null   object \n",
      " 13  Report Date          213523 non-null  object \n",
      " 14  From Date            212080 non-null  object \n",
      " 15  To Date              72081 non-null   object \n",
      " 16  Hour of Day          213599 non-null  float64\n",
      " 17  Day of Week          213599 non-null  float64\n",
      " 18  Year                 213599 non-null  float64\n",
      " 19  Quarter              213599 non-null  float64\n",
      " 20  Month                213599 non-null  float64\n",
      " 21  Neighborhood         209945 non-null  object \n",
      "dtypes: float64(5), int64(1), object(16)\n",
      "memory usage: 35.9+ MB\n"
     ]
    }
   ],
   "source": [
    "boston.info()"
   ]
  },
  {
   "cell_type": "code",
   "execution_count": 16,
   "id": "e3a9fd0e-d0bd-4359-9657-3d248f9f6348",
   "metadata": {},
   "outputs": [],
   "source": [
    "boston.columns=boston.columns.str.replace(r'\\s','_',regex=True)\n",
    "boston['Incident_Number']=boston.Incident_Number.astype(str)\n",
    "boston[\"Report_Date\"]=pd.to_datetime(boston.Report_Date,format='%m/%d/%Y %H:%M:%S %p')\n",
    "boston.Quarter[~boston.Quarter.isnull()].head()\n",
    "boston['Quarter']=boston.Quarter.astype('Int32').astype(str)\n",
    "\n",
    "from pandas.api.types import CategoricalDtype\n",
    "\n",
    "cat_type = CategoricalDtype(categories=['1','2','3','4'], ordered=True)\n",
    "\n",
    "boston[\"Quarter\"]= boston.Quarter.astype(cat_type)"
   ]
  },
  {
   "cell_type": "code",
   "execution_count": 17,
   "id": "7764a791-f69c-4266-96a3-6c76c3b0845e",
   "metadata": {},
   "outputs": [
    {
     "name": "stdout",
     "output_type": "stream",
     "text": [
      "<class 'pandas.core.frame.DataFrame'>\n",
      "RangeIndex: 213603 entries, 0 to 213602\n",
      "Data columns (total 22 columns):\n",
      " #   Column               Non-Null Count   Dtype         \n",
      "---  ------               --------------   -----         \n",
      " 0   OBJECTID             213603 non-null  int64         \n",
      " 1   Incident_Number      213603 non-null  object        \n",
      " 2   Crime                213603 non-null  object        \n",
      " 3   Offense_Code         213603 non-null  object        \n",
      " 4   Offense_Description  213603 non-null  object        \n",
      " 5   Block_Address        182883 non-null  object        \n",
      " 6   City                 182892 non-null  object        \n",
      " 7   Zip_Code             182892 non-null  object        \n",
      " 8   BPD_District         211775 non-null  object        \n",
      " 9   Premise_Description  182892 non-null  object        \n",
      " 10  Weapon_Description   13332 non-null   object        \n",
      " 11  Crime_Part           208970 non-null  object        \n",
      " 12  Crime_Category       32631 non-null   object        \n",
      " 13  Report_Date          213523 non-null  datetime64[ns]\n",
      " 14  From_Date            212080 non-null  object        \n",
      " 15  To_Date              72081 non-null   object        \n",
      " 16  Hour_of_Day          213599 non-null  float64       \n",
      " 17  Day_of_Week          213599 non-null  float64       \n",
      " 18  Year                 213599 non-null  float64       \n",
      " 19  Quarter              213599 non-null  category      \n",
      " 20  Month                213599 non-null  float64       \n",
      " 21  Neighborhood         209945 non-null  object        \n",
      "dtypes: category(1), datetime64[ns](1), float64(4), int64(1), object(15)\n",
      "memory usage: 34.4+ MB\n"
     ]
    }
   ],
   "source": [
    "boston.info()"
   ]
  },
  {
   "cell_type": "code",
   "execution_count": 25,
   "id": "a5b4ffee-0d2d-4a06-9c6e-f12ea4f4d4de",
   "metadata": {},
   "outputs": [],
   "source": [
    "# !pip install pyarrow fastparquet pyreadr"
   ]
  },
  {
   "cell_type": "code",
   "execution_count": 27,
   "id": "ddaa10a0-f0b4-4392-b8bf-38e833188964",
   "metadata": {},
   "outputs": [],
   "source": [
    "boston.to_pickle(\"from_py.pkl\")\n",
    "boston.to_csv(\"from_py.csv\",index=False)\n",
    "boston.to_parquet(\"from_py.parquet\")\n",
    "boston.to_feather(\"from_py.feather\")"
   ]
  },
  {
   "cell_type": "code",
   "execution_count": 26,
   "id": "a4e8eaaf-7502-43ae-918b-ccab2380fae2",
   "metadata": {},
   "outputs": [],
   "source": [
    "import pyreadr\n",
    "pyreadr.write_rds(\"from_py.rds\", boston)"
   ]
  },
  {
   "cell_type": "code",
   "execution_count": 28,
   "id": "ab18b639-f127-4c96-8f9d-6a0efd0bc86c",
   "metadata": {},
   "outputs": [
    {
     "name": "stdout",
     "output_type": "stream",
     "text": [
      "<class 'pandas.core.frame.DataFrame'>\n",
      "RangeIndex: 213603 entries, 0 to 213602\n",
      "Data columns (total 22 columns):\n",
      " #   Column               Non-Null Count   Dtype              \n",
      "---  ------               --------------   -----              \n",
      " 0   OBJECTID             213603 non-null  int32              \n",
      " 1   Incident.Number      213603 non-null  object             \n",
      " 2   Crime                213603 non-null  object             \n",
      " 3   Offense.Code         213603 non-null  object             \n",
      " 4   Offense.Description  213603 non-null  object             \n",
      " 5   Block.Address        213603 non-null  object             \n",
      " 6   City                 213603 non-null  object             \n",
      " 7   Zip.Code             213603 non-null  object             \n",
      " 8   BPD.District         213603 non-null  object             \n",
      " 9   Premise.Description  213603 non-null  object             \n",
      " 10  Weapon.Description   213603 non-null  object             \n",
      " 11  Crime.Part           213603 non-null  object             \n",
      " 12  Crime.Category       213603 non-null  object             \n",
      " 13  Report.Date          213523 non-null  datetime64[us, UTC]\n",
      " 14  From.Date            213603 non-null  object             \n",
      " 15  To.Date              213603 non-null  object             \n",
      " 16  Hour.of.Day          213599 non-null  float64            \n",
      " 17  Day.of.Week          213599 non-null  float64            \n",
      " 18  Year                 213599 non-null  float64            \n",
      " 19  Quarter              213599 non-null  category           \n",
      " 20  Month                213599 non-null  float64            \n",
      " 21  Neighborhood         213603 non-null  object             \n",
      "dtypes: category(1), datetime64[us, UTC](1), float64(4), int32(1), object(15)\n",
      "memory usage: 33.6+ MB\n"
     ]
    }
   ],
   "source": [
    "feather_from_r=pd.read_feather('from_r.feather')\n",
    "feather_from_r.info()"
   ]
  },
  {
   "cell_type": "code",
   "execution_count": 29,
   "id": "13e2822b-7889-4a2f-b5e4-5cb3954f3fe8",
   "metadata": {},
   "outputs": [
    {
     "data": {
      "text/plain": [
       "0         4\n",
       "1         4\n",
       "2         4\n",
       "3         4\n",
       "4         4\n",
       "         ..\n",
       "213598    4\n",
       "213599    3\n",
       "213600    4\n",
       "213601    4\n",
       "213602    4\n",
       "Name: Quarter, Length: 213603, dtype: category\n",
       "Categories (4, object): ['1' < '2' < '3' < '4']"
      ]
     },
     "execution_count": 29,
     "metadata": {},
     "output_type": "execute_result"
    }
   ],
   "source": [
    "feather_from_r.Quarter"
   ]
  },
  {
   "cell_type": "code",
   "execution_count": 30,
   "id": "cff38f5a-6361-45a4-bd1a-2c319367f95d",
   "metadata": {},
   "outputs": [
    {
     "name": "stderr",
     "output_type": "stream",
     "text": [
      "/Users/JoseManuel/opt/anaconda3/envs/workshopRPy/lib/python3.12/site-packages/pandas/core/tools/datetimes.py:557: RuntimeWarning: invalid value encountered in multiply\n",
      "  fvalues = (arg * mult).astype(\"f8\", copy=False)\n"
     ]
    },
    {
     "name": "stdout",
     "output_type": "stream",
     "text": [
      "<class 'pandas.core.frame.DataFrame'>\n",
      "RangeIndex: 213603 entries, 0 to 213602\n",
      "Data columns (total 22 columns):\n",
      " #   Column               Non-Null Count   Dtype         \n",
      "---  ------               --------------   -----         \n",
      " 0   OBJECTID             213603 non-null  int32         \n",
      " 1   Incident.Number      213603 non-null  object        \n",
      " 2   Crime                213603 non-null  object        \n",
      " 3   Offense.Code         213603 non-null  object        \n",
      " 4   Offense.Description  213603 non-null  object        \n",
      " 5   Block.Address        213603 non-null  object        \n",
      " 6   City                 213603 non-null  object        \n",
      " 7   Zip.Code             213603 non-null  object        \n",
      " 8   BPD.District         213603 non-null  object        \n",
      " 9   Premise.Description  213603 non-null  object        \n",
      " 10  Weapon.Description   213603 non-null  object        \n",
      " 11  Crime.Part           213603 non-null  object        \n",
      " 12  Crime.Category       213603 non-null  object        \n",
      " 13  Report.Date          213523 non-null  datetime64[ns]\n",
      " 14  From.Date            213603 non-null  object        \n",
      " 15  To.Date              213603 non-null  object        \n",
      " 16  Hour.of.Day          213599 non-null  object        \n",
      " 17  Day.of.Week          213599 non-null  object        \n",
      " 18  Year                 213599 non-null  object        \n",
      " 19  Quarter              213599 non-null  category      \n",
      " 20  Month                213599 non-null  object        \n",
      " 21  Neighborhood         213603 non-null  object        \n",
      "dtypes: category(1), datetime64[ns](1), int32(1), object(19)\n",
      "memory usage: 33.6+ MB\n"
     ]
    }
   ],
   "source": [
    "import pyreadr\n",
    "\n",
    "result = pyreadr.read_r('from_r.rds')\n",
    "feather_from_r = result[None] # extract the pandas data frame for the only object available\n",
    "feather_from_r.info()"
   ]
  },
  {
   "cell_type": "code",
   "execution_count": 33,
   "id": "9ea28ac4-5793-4c15-93c0-462298e4e53b",
   "metadata": {},
   "outputs": [
    {
     "data": {
      "text/plain": [
       "0        2022-11-10 09:44:01\n",
       "1        2022-11-10 16:17:15\n",
       "2        2022-11-10 18:16:47\n",
       "3        2022-11-10 18:51:38\n",
       "4        2022-11-10 19:14:28\n",
       "                 ...        \n",
       "213598   2024-11-06 23:15:51\n",
       "213599   2024-09-18 16:30:15\n",
       "213600   2024-11-05 04:35:33\n",
       "213601   2024-11-08 02:31:40\n",
       "213602   2024-11-01 00:25:54\n",
       "Name: Report.Date, Length: 213603, dtype: datetime64[ns]"
      ]
     },
     "execution_count": 33,
     "metadata": {},
     "output_type": "execute_result"
    }
   ],
   "source": [
    "feather_from_r.Report.Date"
   ]
  },
  {
   "cell_type": "code",
   "execution_count": null,
   "id": "2a972b64-bba2-4aeb-9bf9-22cbbde538ad",
   "metadata": {},
   "outputs": [],
   "source": []
  }
 ],
 "metadata": {
  "kernelspec": {
   "display_name": "Python 3 (ipykernel)",
   "language": "python",
   "name": "python3"
  },
  "language_info": {
   "codemirror_mode": {
    "name": "ipython",
    "version": 3
   },
   "file_extension": ".py",
   "mimetype": "text/x-python",
   "name": "python",
   "nbconvert_exporter": "python",
   "pygments_lexer": "ipython3",
   "version": "3.12.0"
  }
 },
 "nbformat": 4,
 "nbformat_minor": 5
}
